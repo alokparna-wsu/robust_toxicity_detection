{
 "cells": [
  {
   "cell_type": "code",
   "execution_count": 1,
   "metadata": {},
   "outputs": [
    {
     "name": "stdout",
     "output_type": "stream",
     "text": [
      "Better speed can be achieved with apex installed from https://www.github.com/nvidia/apex.\n"
     ]
    }
   ],
   "source": [
    "import pandas as pd\n",
    "import numpy as np\n",
    "from pathlib import Path\n",
    "from typing import *\n",
    "\n",
    "from overrides import overrides\n",
    "import warnings\n",
    "\n",
    "from allennlp.data import Instance\n",
    "from allennlp.data.token_indexers import TokenIndexer, SingleIdTokenIndexer\n",
    "from allennlp.data.tokenizers import Token\n",
    "from allennlp.nn import util as nn_util\n",
    "\n",
    "\n",
    "DATA_ROOT = Path(\"../data/jigsaw\")"
   ]
  },
  {
   "cell_type": "code",
   "execution_count": null,
   "metadata": {},
   "outputs": [],
   "source": []
  },
  {
   "cell_type": "code",
   "execution_count": 2,
   "metadata": {},
   "outputs": [],
   "source": [
    "label_cols = [\"toxic\", \"severe_toxic\", \"obscene\",\n",
    "              \"threat\", \"insult\", \"identity_hate\"]"
   ]
  },
  {
   "cell_type": "code",
   "execution_count": 8,
   "metadata": {},
   "outputs": [],
   "source": [
    "from allennlp.data.dataset_readers import DatasetReader\n",
    "from allennlp.data.fields import TextField, SequenceLabelField, LabelField, MetadataField, ArrayField\n",
    "import csv\n",
    "\n",
    "max_seq_len = 512\n",
    "\n",
    "class JigsawDatasetReader(DatasetReader):\n",
    "    def __init__(self, tokenizer: Callable[[str], List[str]]=lambda x: x.split(),\n",
    "                 token_indexers: Dict[str, TokenIndexer] = None, # TODO: Handle mapping from BERT\n",
    "                 max_seq_len: Optional[int]=max_seq_len) -> None:\n",
    "        super().__init__(lazy=False)\n",
    "        self.tokenizer = tokenizer\n",
    "        self.token_indexers = token_indexers or {\"tokens\": SingleIdTokenIndexer()}\n",
    "        self.max_seq_len = max_seq_len\n",
    "\n",
    "    @overrides\n",
    "    def text_to_instance(self, tokens: List[str], id: str,\n",
    "                         labels: np.ndarray) -> Instance:\n",
    "        sentence_field = MemoryOptimizedTextField([proc(x) for x in tokens],\n",
    "                                   self.token_indexers)\n",
    "        fields = {\"tokens\": sentence_field}\n",
    "        \n",
    "        wl_feats = np.array([[func(w) for func in word_level_features] for w in tokens])\n",
    "        fields[\"word_level_features\"] = ArrayField(array=wl_feats)\n",
    "        \n",
    "        sl_feats = np.array([func(tokens) for func in sentence_level_features])\n",
    "        fields[\"sentence_level_features\"] = ArrayField(array=sl_feats)\n",
    "\n",
    "        label_field = ArrayField(array=labels)\n",
    "        fields[\"label\"] = label_field\n",
    "\n",
    "        return Instance(fields)\n",
    "    \n",
    "    @overrides\n",
    "    def _read(self, file_path: str) -> Iterator[Instance]:\n",
    "        with open(file_path) as f:\n",
    "            reader = csv.reader(f)\n",
    "            next(reader)\n",
    "            for i, line in enumerate(reader):\n",
    "                if len(line) == 9:\n",
    "                    _, id_, text, *labels = line\n",
    "                elif len(line) == 8:\n",
    "                    id_, text, *labels = line\n",
    "                else: raise ValueError(f\"line has {len(line)} values\")\n",
    "                yield self.text_to_instance(\n",
    "                    self.tokenizer(text),\n",
    "                    id_, np.array([int(x) for x in labels]),\n",
    "                )"
   ]
  },
  {
   "cell_type": "code",
   "execution_count": 9,
   "metadata": {},
   "outputs": [],
   "source": [
    "from allennlp.data.tokenizers.word_splitter import SpacyWordSplitter\n",
    "from allennlp.data.token_indexers import WordpieceIndexer, SingleIdTokenIndexer\n",
    "\n",
    "_spacy_tok = SpacyWordSplitter(language='en_core_web_sm', pos_tags=False).split_words\n",
    "\n",
    "from allennlp.data.token_indexers import SingleIdTokenIndexer\n",
    "token_indexer = SingleIdTokenIndexer(\n",
    "    lowercase_tokens=True,\n",
    ")\n",
    "def tokenizer(x: str):\n",
    "    return [w.text for w in\n",
    "            _spacy_tok(x.lower())]"
   ]
  },
  {
   "cell_type": "code",
   "execution_count": 10,
   "metadata": {},
   "outputs": [],
   "source": [
    "reader = JigsawDatasetReader(\n",
    "    tokenizer=tokenizer,\n",
    "    token_indexers={\"tokens\": token_indexer}\n",
    ")"
   ]
  },
  {
   "cell_type": "code",
   "execution_count": 11,
   "metadata": {},
   "outputs": [],
   "source": [
    "from allennlp.data.fields import TextField, SequenceLabelField, LabelField, MetadataField, ArrayField\n",
    "import string\n",
    "alphabet = set(string.ascii_lowercase)\n",
    "\n",
    "sentence_level_features: List[Callable[[List[str]], float]] = [\n",
    "#     lambda x: (np.log1p(len(x)) - 3.628) / 1.065, # stat computed on train set\n",
    "]\n",
    "\n",
    "word_level_features: List[Callable[[str], float]] = [\n",
    "    lambda x: 1 if (x.lower() == x) else 0,\n",
    "    lambda x: len([c for c in x.lower() if c not in alphabet]) / len(x),\n",
    "]\n",
    "\n",
    "def proc(x: str) -> str:\n",
    "    return x.lower()\n",
    "\n",
    "class MemoryOptimizedTextField(TextField):\n",
    "    @overrides\n",
    "    def __init__(self, tokens: List[str], token_indexers: Dict[str, TokenIndexer]) -> None:\n",
    "        self.tokens = tokens\n",
    "        self._token_indexers = token_indexers\n",
    "        self._indexed_tokens: Optional[Dict[str, TokenList]] = None\n",
    "        self._indexer_name_to_indexed_token: Optional[Dict[str, List[str]]] = None\n",
    "        # skip checks for tokens\n",
    "    @overrides\n",
    "    def index(self, vocab):\n",
    "        super().index(vocab)\n",
    "        self.tokens = None # empty tokens"
   ]
  },
  {
   "cell_type": "code",
   "execution_count": 39,
   "metadata": {},
   "outputs": [
    {
     "name": "stderr",
     "output_type": "stream",
     "text": [
      "1it [00:00, 830.72it/s]\n"
     ]
    },
    {
     "data": {
      "text/plain": [
       "[[<allennlp.data.instance.Instance at 0x7f6e46d3d898>]]"
      ]
     },
     "execution_count": 39,
     "metadata": {},
     "output_type": "execute_result"
    }
   ],
   "source": [
    "train_ds = (reader.read(DATA_ROOT / fname) for fname in [\"debug.csv\"])\n",
    "list(train_ds)"
   ]
  },
  {
   "cell_type": "code",
   "execution_count": 37,
   "metadata": {},
   "outputs": [
    {
     "name": "stderr",
     "output_type": "stream",
     "text": [
      "1it [00:00, 585.80it/s]"
     ]
    },
    {
     "name": "stdout",
     "output_type": "stream",
     "text": [
      "[<allennlp.data.instance.Instance object at 0x7f6e46cf7828>]\n",
      "<class 'list'>\n"
     ]
    },
    {
     "name": "stderr",
     "output_type": "stream",
     "text": [
      "\n"
     ]
    }
   ],
   "source": [
    "from allennlp.common.tqdm import Tqdm\n",
    "\n",
    "d=dict()\n",
    "for t in train_ds:\n",
    "    print(t)\n",
    "    print(type(t))"
   ]
  },
  {
   "cell_type": "code",
   "execution_count": 35,
   "metadata": {},
   "outputs": [
    {
     "name": "stderr",
     "output_type": "stream",
     "text": [
      "0it [00:00, ?it/s]\n"
     ]
    }
   ],
   "source": [
    "from allennlp.data.vocabulary import Vocabulary\n",
    "vocab = Vocabulary.from_instances(train_ds)"
   ]
  },
  {
   "cell_type": "code",
   "execution_count": 25,
   "metadata": {},
   "outputs": [],
   "source": [
    "# vocab should have been saved using\n",
    "#vocab.save_to_files(DATA_ROOT / \"vocab\")"
   ]
  },
  {
   "cell_type": "code",
   "execution_count": null,
   "metadata": {},
   "outputs": [],
   "source": []
  },
  {
   "cell_type": "markdown",
   "metadata": {},
   "source": [
    "To avoid memory errors, restart here and build embedding matrix"
   ]
  },
  {
   "cell_type": "code",
   "execution_count": null,
   "metadata": {},
   "outputs": [],
   "source": [
    "#from allennlp.data.vocabulary import Vocabulary\n",
    "#vocab = Vocabulary.from_files(DATA_ROOT / \"vocab\")"
   ]
  },
  {
   "cell_type": "code",
   "execution_count": null,
   "metadata": {},
   "outputs": [],
   "source": [
    "import fastText\n",
    "ft_model = fastText.load_model(str(DATA_ROOT / \"ft_model.bin\"))"
   ]
  },
  {
   "cell_type": "code",
   "execution_count": null,
   "metadata": {},
   "outputs": [],
   "source": [
    "with (DATA_ROOT / \"ft_model.txt\").open(\"wt\") as f:\n",
    "    for idx, token in vocab.get_index_to_token_vocabulary().items():\n",
    "        emb = ft_model.get_word_vector(token)\n",
    "        emb_as_str = \" \".join([\"%.4f\" % x for x in emb])\n",
    "        f.write(f\"{token} {emb_as_str}\\n\")"
   ]
  },
  {
   "cell_type": "code",
   "execution_count": null,
   "metadata": {},
   "outputs": [],
   "source": [
    "# Anna's reading code"
   ]
  }
 ],
 "metadata": {
  "kernelspec": {
   "display_name": "Python 3",
   "language": "python",
   "name": "python3"
  },
  "language_info": {
   "codemirror_mode": {
    "name": "ipython",
    "version": 3
   },
   "file_extension": ".py",
   "mimetype": "text/x-python",
   "name": "python",
   "nbconvert_exporter": "python",
   "pygments_lexer": "ipython3",
   "version": "3.7.1"
  }
 },
 "nbformat": 4,
 "nbformat_minor": 2
}
