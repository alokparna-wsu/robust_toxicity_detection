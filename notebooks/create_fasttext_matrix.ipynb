{
 "cells": [
  {
   "cell_type": "code",
   "execution_count": 1,
   "metadata": {},
   "outputs": [],
   "source": [
    "from pathlib import Path\n",
    "DATA_ROOT = Path(\"../data/jigsaw\")"
   ]
  },
  {
   "cell_type": "code",
   "execution_count": null,
   "metadata": {},
   "outputs": [],
   "source": [
    "# vocab should have been saved using\n",
    "\"\"\"vocab.save_to_files(DATA_ROOT / \"vocab\")\"\"\""
   ]
  },
  {
   "cell_type": "code",
   "execution_count": 2,
   "metadata": {},
   "outputs": [
    {
     "name": "stderr",
     "output_type": "stream",
     "text": [
      "02/03/2019 08:08:18 - INFO - allennlp.data.vocabulary -   Loading token dictionary from ../data/jigsaw/vocab.\n"
     ]
    }
   ],
   "source": [
    "from allennlp.data.vocabulary import Vocabulary\n",
    "vocab = Vocabulary.from_files(DATA_ROOT / \"vocab\")"
   ]
  },
  {
   "cell_type": "code",
   "execution_count": 4,
   "metadata": {},
   "outputs": [],
   "source": [
    "import fastText\n",
    "ft_model = fastText.load_model(str(DATA_ROOT / \"ft_model.bin\"))"
   ]
  },
  {
   "cell_type": "code",
   "execution_count": 5,
   "metadata": {},
   "outputs": [],
   "source": [
    "with (DATA_ROOT / \"ft_model.txt\").open(\"wt\") as f:\n",
    "    for idx, token in vocab.get_index_to_token_vocabulary().items():\n",
    "        emb = ft_model.get_word_vector(token)\n",
    "        emb_as_str = \" \".join([\"%.4f\" % x for x in emb])\n",
    "        f.write(f\"{token} {emb_as_str}\\n\")"
   ]
  },
  {
   "cell_type": "code",
   "execution_count": null,
   "metadata": {},
   "outputs": [],
   "source": []
  }
 ],
 "metadata": {
  "kernelspec": {
   "display_name": "Python 3",
   "language": "python",
   "name": "python3"
  },
  "language_info": {
   "codemirror_mode": {
    "name": "ipython",
    "version": 3
   },
   "file_extension": ".py",
   "mimetype": "text/x-python",
   "name": "python",
   "nbconvert_exporter": "python",
   "pygments_lexer": "ipython3",
   "version": "3.6.6"
  }
 },
 "nbformat": 4,
 "nbformat_minor": 2
}
