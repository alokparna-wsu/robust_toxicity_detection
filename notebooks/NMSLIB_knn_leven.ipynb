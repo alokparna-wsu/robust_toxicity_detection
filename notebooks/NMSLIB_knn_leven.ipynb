{
 "cells": [
  {
   "cell_type": "code",
   "execution_count": 38,
   "metadata": {},
   "outputs": [],
   "source": [
    "import pickle\n",
    "import numpy as np\n",
    "\n",
    "data_vocab_path = \"../data/jigsaw/data_vocab.bin\""
   ]
  },
  {
   "cell_type": "code",
   "execution_count": 39,
   "metadata": {},
   "outputs": [],
   "source": [
    "vocab=pickle.load(open(data_vocab_path,'rb'))"
   ]
  },
  {
   "cell_type": "code",
   "execution_count": 40,
   "metadata": {},
   "outputs": [],
   "source": [
    "from pytorch_pretrained_bert.tokenization import BertTokenizer\n",
    "\n",
    "bert_tokenizer = BertTokenizer.from_pretrained('bert-base-uncased', do_lower_case=True)"
   ]
  },
  {
   "cell_type": "code",
   "execution_count": 41,
   "metadata": {},
   "outputs": [
    {
     "data": {
      "text/plain": [
       "(305140, 30522)"
      ]
     },
     "execution_count": 41,
     "metadata": {},
     "output_type": "execute_result"
    }
   ],
   "source": [
    "bert_vocab_toks = list(bert_tokenizer.vocab.keys())\n",
    "vocab_toks = set( [w for idx, w in vocab.get_index_to_token_vocabulary().items() ])\n",
    "len(vocab_toks), len(bert_vocab_toks)"
   ]
  },
  {
   "cell_type": "code",
   "execution_count": 42,
   "metadata": {},
   "outputs": [
    {
     "name": "stdout",
     "output_type": "stream",
     "text": [
      "Index-time parameters {'M': 25, 'indexThreadQty': 8, 'efConstruction': 200, 'post': 0}\n"
     ]
    }
   ],
   "source": [
    "import nmslib, time\n",
    "\n",
    "M = 25\n",
    "efC = 200\n",
    "\n",
    "num_threads = 8\n",
    "index_time_params = {'M': M, 'indexThreadQty': num_threads, 'efConstruction': efC, 'post' : 0}\n",
    "print('Index-time parameters', index_time_params)"
   ]
  },
  {
   "cell_type": "code",
   "execution_count": 43,
   "metadata": {},
   "outputs": [
    {
     "data": {
      "text/plain": [
       "30522"
      ]
     },
     "execution_count": 43,
     "metadata": {},
     "output_type": "execute_result"
    }
   ],
   "source": [
    "# Space name should correspond to the space name \n",
    "# used for brute-force search\n",
    "space_name='leven'\n",
    "\n",
    "\n",
    "# Intitialize the library, specify the space, the type of the vector and add data points \n",
    "index = nmslib.init(method='hnsw', space=space_name, dtype=nmslib.DistType.INT, data_type=nmslib.DataType.OBJECT_AS_STRING) \n",
    "index.addDataPointBatch(bert_vocab_toks)"
   ]
  },
  {
   "cell_type": "code",
   "execution_count": 44,
   "metadata": {},
   "outputs": [
    {
     "name": "stdout",
     "output_type": "stream",
     "text": [
      "Index-time parameters {'M': 25, 'indexThreadQty': 8, 'efConstruction': 200}\n",
      "Indexing time = 4.700720\n"
     ]
    }
   ],
   "source": [
    "# Create an index\n",
    "start = time.time()\n",
    "index_time_params = {'M': M, 'indexThreadQty': num_threads, 'efConstruction': efC}\n",
    "index.createIndex(index_time_params) \n",
    "end = time.time() \n",
    "print('Index-time parameters', index_time_params)\n",
    "print('Indexing time = %f' % (end-start))"
   ]
  },
  {
   "cell_type": "code",
   "execution_count": 45,
   "metadata": {},
   "outputs": [
    {
     "name": "stdout",
     "output_type": "stream",
     "text": [
      "Setting query-time parameters {'efSearch': 1000}\n"
     ]
    }
   ],
   "source": [
    "# Setting query-time parameters\n",
    "efS = 1000\n",
    "K=10\n",
    "query_time_params = {'efSearch': efS}\n",
    "print('Setting query-time parameters', query_time_params)\n",
    "index.setQueryTimeParams(query_time_params)"
   ]
  },
  {
   "cell_type": "code",
   "execution_count": 50,
   "metadata": {},
   "outputs": [],
   "source": [
    "query_arr = ['fuuck', 'fcuk']\n",
    "K=10"
   ]
  },
  {
   "cell_type": "code",
   "execution_count": 51,
   "metadata": {},
   "outputs": [
    {
     "name": "stdout",
     "output_type": "stream",
     "text": [
      "kNN time total=0.006067 (sec), per query=0.003033 (sec), per query adjusted for thread number=0.024266 (sec)\n"
     ]
    }
   ],
   "source": [
    "# Querying\n",
    "\n",
    "query_qty = len(query_arr)\n",
    "start = time.time() \n",
    "nbrs = index.knnQueryBatch(query_arr, k = K, num_threads = num_threads)\n",
    "end = time.time() \n",
    "print('kNN time total=%f (sec), per query=%f (sec), per query adjusted for thread number=%f (sec)' % \n",
    "      (end-start, float(end-start)/query_qty, num_threads*float(end-start)/query_qty))"
   ]
  },
  {
   "cell_type": "code",
   "execution_count": 52,
   "metadata": {},
   "outputs": [
    {
     "data": {
      "text/plain": [
       "(array([ 6616, 10131,  4744,  5881, 18029,  6735,  9457, 11891, 22900,\n",
       "         4248], dtype=int32),\n",
       " array([1, 2, 2, 2, 2, 2, 2, 2, 2, 2], dtype=int32))"
      ]
     },
     "execution_count": 52,
     "metadata": {},
     "output_type": "execute_result"
    }
   ],
   "source": [
    "nbrs[0][0], nbrs[0][1]"
   ]
  },
  {
   "cell_type": "code",
   "execution_count": 53,
   "metadata": {},
   "outputs": [
    {
     "name": "stdout",
     "output_type": "stream",
     "text": [
      "Query: 0\n",
      "word: fuck distance:  1\n",
      "word: buck distance:  2\n",
      "word: truck distance:  2\n",
      "word: stuck distance:  2\n",
      "word: tuck distance:  2\n",
      "word: luck distance:  2\n",
      "word: duck distance:  2\n",
      "word: suck distance:  2\n",
      "word: puck distance:  2\n",
      "word: quick distance:  2\n",
      "===============\n",
      "Query: 1\n",
      "word: four distance:  2\n",
      "word: cum distance:  2\n",
      "word: cut distance:  2\n",
      "word: cup distance:  2\n",
      "word: cue distance:  2\n",
      "word: fu distance:  2\n",
      "word: faux distance:  2\n",
      "word: cub distance:  2\n",
      "word: flux distance:  2\n",
      "word: feud distance:  2\n",
      "===============\n"
     ]
    }
   ],
   "source": [
    "for query_id in range(query_qty):\n",
    "    print('Query:', query_id)\n",
    "    qty = len(nbrs[query_id][0])\n",
    "    for i in range(qty):\n",
    "        print(\"word:\", bert_vocab_toks[nbrs[query_id][0][i]], \"distance: \", nbrs[query_id][1][i])\n",
    "    print('===============')"
   ]
  },
  {
   "cell_type": "code",
   "execution_count": null,
   "metadata": {},
   "outputs": [],
   "source": []
  },
  {
   "cell_type": "code",
   "execution_count": null,
   "metadata": {},
   "outputs": [],
   "source": []
  }
 ],
 "metadata": {
  "kernelspec": {
   "display_name": "Python 3",
   "language": "python",
   "name": "python3"
  },
  "language_info": {
   "codemirror_mode": {
    "name": "ipython",
    "version": 3
   },
   "file_extension": ".py",
   "mimetype": "text/x-python",
   "name": "python",
   "nbconvert_exporter": "python",
   "pygments_lexer": "ipython3",
   "version": "3.7.1"
  }
 },
 "nbformat": 4,
 "nbformat_minor": 2
}
